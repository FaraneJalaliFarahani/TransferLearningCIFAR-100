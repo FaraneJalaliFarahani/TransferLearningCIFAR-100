{
  "nbformat": 4,
  "nbformat_minor": 0,
  "metadata": {
    "colab": {
      "name": "TransferLeraningCIFAR-100.ipynb",
      "provenance": [],
      "collapsed_sections": []
    },
    "kernelspec": {
      "name": "python3",
      "display_name": "Python 3"
    },
    "accelerator": "GPU"
  },
  "cells": [
    {
      "cell_type": "code",
      "metadata": {
        "id": "bX4dJAVWM4PM",
        "colab_type": "code",
        "colab": {}
      },
      "source": [
        "import torch\n",
        "import torchvision\n",
        "import numpy as np\n",
        "import torch.nn as nn\n",
        "from torch.utils.data  import TensorDataset, DataLoader\n",
        "import torchvision.transforms as transforms\n",
        "import matplotlib.pyplot as plt\n",
        "device = 'cuda' if torch.cuda.is_available() else 'cpu'"
      ],
      "execution_count": 0,
      "outputs": []
    },
    {
      "cell_type": "markdown",
      "metadata": {
        "id": "qz1n4HD6UE6Y",
        "colab_type": "text"
      },
      "source": [
        "# load train and test dataset of CIFAR10"
      ]
    },
    {
      "cell_type": "code",
      "metadata": {
        "id": "wGJPWQrNM99J",
        "colab_type": "code",
        "outputId": "34eb00fc-3967-44d8-8068-793728af651b",
        "colab": {
          "base_uri": "https://localhost:8080/",
          "height": 51
        }
      },
      "source": [
        "transform = transforms.Compose([transforms.ToTensor(),transforms.Normalize((0.5, 0.5, 0.5), (0.5, 0.5, 0.5))])\n",
        "train_dataset=torchvision.datasets.CIFAR10('.',train=True,transform=transform,download=True)#load train dataset of CIFAR10\n",
        "test_dataset=torchvision.datasets.CIFAR10('.',train=False,transform=transform,download=True)#load test dataset of CIFAR10\n"
      ],
      "execution_count": 0,
      "outputs": [
        {
          "output_type": "stream",
          "text": [
            "Files already downloaded and verified\n",
            "Files already downloaded and verified\n"
          ],
          "name": "stdout"
        }
      ]
    },
    {
      "cell_type": "markdown",
      "metadata": {
        "id": "ZPA5o4tDUU1S",
        "colab_type": "text"
      },
      "source": [
        "# convolutional neural network : \"CNN_Cifar_10\""
      ]
    },
    {
      "cell_type": "code",
      "metadata": {
        "id": "dK4RaqEONMBj",
        "colab_type": "code",
        "colab": {}
      },
      "source": [
        "\n",
        "class CNN_Cifar_10(torch.nn.Module):\n",
        "  def __init__(self)  :\n",
        "    super(CNN_Cifar_10, self).__init__()\n",
        "    self.conv1 = nn.Conv2d(3, 64, 5)\n",
        "    self.conv2 = nn.Conv2d(64, 64, 5)\n",
        "    self.pool2 = nn.MaxPool2d( kernel_size=2, stride=2, padding=0)\n",
        "    self.conv3 = nn.Conv2d(64, 64, 3)\n",
        "    self.pool3 = nn.MaxPool2d( kernel_size=2, stride=2, padding=0)\n",
        "    self.fc1 = nn.Linear(64 * 5 * 5, 256)\n",
        "    self.fc2 = nn.Linear(256, 10)\n",
        "\n",
        "    \n",
        "  def forward(self, x):\n",
        "    relu1 = self.conv1(x).clamp(min=0)\n",
        "    relu2 = self.pool2(self.conv2(relu1).clamp(min=0))\n",
        "    relu3 = self.pool3(self.conv3(relu2).clamp(min=0))\n",
        "    x=relu3\n",
        "    x = x.view(-1, 64 * 5 * 5) #Flatting for input of Fully Connected\n",
        "    x = self.fc1(x).clamp(min=0)\n",
        "    x = self.fc2(x)\n",
        "    \n",
        "    return x\n",
        "  \n",
        "  \n",
        "  \n",
        "epoch=[]\n",
        "losses=[]\n",
        "loader = DataLoader(train_dataset, batch_size = 256, shuffle=True )\n",
        "#test_loader = DataLoader(test_dataset, batch_size = 256, shuffle=True )\n",
        "model=CNN_Cifar_10()\n",
        "model = model.to(device)\n",
        "criterion = nn.CrossEntropyLoss()\n",
        "optimizer= torch.optim.Adam(model.parameters(),lr=0.001)\n",
        "\n",
        "for t in range (100):\n",
        "  l=0\n",
        "  for x_batch, y_batch in loader:\n",
        "    x_batch, y_batch = x_batch.to(device), y_batch.to(device)\n",
        "    y_pred = model(x_batch)\n",
        "    loss = criterion(y_pred, y_batch)\n",
        "    loss.backward()\n",
        "    optimizer.step()\n",
        "    optimizer.zero_grad()\n",
        "    l+=loss\n",
        "  losses.append(l/len(loader))\n",
        "  epoch.append(t)\n",
        "\n",
        "\n"
      ],
      "execution_count": 0,
      "outputs": []
    },
    {
      "cell_type": "markdown",
      "metadata": {
        "id": "1UihICyWUYh7",
        "colab_type": "text"
      },
      "source": [
        "call pre-trained model"
      ]
    },
    {
      "cell_type": "code",
      "metadata": {
        "id": "2KjlqelHRpBd",
        "colab_type": "code",
        "colab": {}
      },
      "source": [
        "model=CNN_Cifar_10()"
      ],
      "execution_count": 0,
      "outputs": []
    },
    {
      "cell_type": "markdown",
      "metadata": {
        "id": "Q4tc5TBCUcn3",
        "colab_type": "text"
      },
      "source": [
        "Freez Covcolutional layer of pre-trained model"
      ]
    },
    {
      "cell_type": "code",
      "metadata": {
        "id": "jOZnYpiyRp89",
        "colab_type": "code",
        "outputId": "3650ec4f-8923-4f85-8708-2f5eb3d62565",
        "colab": {
          "base_uri": "https://localhost:8080/",
          "height": 34
        }
      },
      "source": [
        "model.conv1.requires_grad_(False)\n",
        "model.conv2.requires_grad_(False)\n",
        "model.conv3.requires_grad_(False)\n",
        "model.fc1.requires_grad_(True)\n",
        "model.fc2.requires_grad_(True)\n"
      ],
      "execution_count": 0,
      "outputs": [
        {
          "output_type": "execute_result",
          "data": {
            "text/plain": [
              "Linear(in_features=256, out_features=10, bias=True)"
            ]
          },
          "metadata": {
            "tags": []
          },
          "execution_count": 23
        }
      ]
    },
    {
      "cell_type": "markdown",
      "metadata": {
        "id": "XZ3QqMLPUnbH",
        "colab_type": "text"
      },
      "source": [
        "modified last fully connected to predict 5 classes {'bicycle':**8**,  'bus':**13**, 'dolphine':**30**,'mountain':**49**, 'table':**84**}"
      ]
    },
    {
      "cell_type": "code",
      "metadata": {
        "id": "WlPG7TPRSBNT",
        "colab_type": "code",
        "colab": {}
      },
      "source": [
        "model.fc2 = nn.Linear(256, 5)\n",
        "model=model.to(device)"
      ],
      "execution_count": 0,
      "outputs": []
    },
    {
      "cell_type": "markdown",
      "metadata": {
        "id": "-h7xf6NKVFhy",
        "colab_type": "text"
      },
      "source": [
        "Seperate five classes: BICYCLE, BUS, DOLPHINE, MOUNTAIN, TABLE for train"
      ]
    },
    {
      "cell_type": "code",
      "metadata": {
        "id": "dNQ-c8QuSjii",
        "colab_type": "code",
        "outputId": "19e90a6a-0af9-4ee2-9a7b-4eef56173164",
        "colab": {
          "base_uri": "https://localhost:8080/",
          "height": 34
        }
      },
      "source": [
        "#five_classes={'bicycle':8,  'bus':13, 'dolphine':30,, 'mountain':49'table':84}\n",
        "\n",
        "transform_new = transforms.Compose([transforms.ToTensor(),transforms.Normalize((0.5, 0.5, 0.5), (0.5, 0.5, 0.5))])\n",
        "train_c100=torchvision.datasets.CIFAR100('.',train=True,transform=transform_new,download=True)#load train dataset of CIFAR100\n",
        "\n",
        "\n",
        "train_c5_data=np.ones((2500,32,32,3), dtype=np.uint8)\n",
        "train_c5_tag=[]\n",
        "j=0\n",
        "x=train_c100.data\n",
        "y=train_c100.targets\n",
        "for k in range(len(x)):\n",
        "  if y[k] == 8:\n",
        "    train_c5_tag.append(0)\n",
        "    train_c5_data[j] = x[k]\n",
        "    j = j+1\n",
        "  \n",
        "  if y[k] == 13:\n",
        "    train_c5_tag.append(1)\n",
        "    train_c5_data[j] = x[k]\n",
        "    j = j+1\n",
        "\n",
        "  if y[k] == 30:\n",
        "    train_c5_tag.append(2)\n",
        "    train_c5_data[j] = x[k]\n",
        "    j = j+1\n",
        "  \n",
        "  if y[k] == 49:\n",
        "    train_c5_tag.append(3)\n",
        "    train_c5_data[j] = x[k]\n",
        "    j = j+1 \n",
        "\n",
        "  if y[k] == 84:\n",
        "    train_c5_tag.append(4)\n",
        "    train_c5_data[j] = x[k]\n",
        "    j = j+1\n",
        "\n",
        "\n",
        "train_c5_tag = torch.tensor(train_c5_tag, dtype=torch.long)\n",
        "train_c5_data = torch.tensor(train_c5_data,dtype=torch.float)\n",
        "train_loader = DataLoader(TensorDataset(train_c5_data, train_c5_tag), batch_size = 128,shuffle=True)"
      ],
      "execution_count": 0,
      "outputs": [
        {
          "output_type": "stream",
          "text": [
            "Files already downloaded and verified\n"
          ],
          "name": "stdout"
        }
      ]
    },
    {
      "cell_type": "markdown",
      "metadata": {
        "id": "75usQHOOVgyi",
        "colab_type": "text"
      },
      "source": [
        "Seperate five classes: BICYCLE, BUS, DOLPHINE, MOUNTAIN, TABLE for test"
      ]
    },
    {
      "cell_type": "code",
      "metadata": {
        "id": "JD0AQIUBXj4F",
        "colab_type": "code",
        "outputId": "3e3121b4-d5f3-4b17-a148-46733cda5da7",
        "colab": {
          "base_uri": "https://localhost:8080/",
          "height": 34
        }
      },
      "source": [
        "transform_new = transforms.Compose([transforms.ToTensor(),transforms.Normalize((0.5, 0.5, 0.5), (0.5, 0.5, 0.5))])\n",
        "test_c100=torchvision.datasets.CIFAR100('.',train=False,transform=transform_new,download=True)#load test dataset of CIFAR100\n",
        "\n",
        "test_c5_data=np.ones((500,32,32,3), dtype=np.uint8)\n",
        "test_c5_tag=[]\n",
        "l=0\n",
        "z=test_c100.data\n",
        "t=test_c100.targets\n",
        "\n",
        "for n in range(len(z)):\n",
        "  if t[n] == 8:\n",
        "    test_c5_tag.append(0)\n",
        "    test_c5_data[l] = z[n]\n",
        "    l = l+1\n",
        " \n",
        "  if t[n] == 13:\n",
        "    test_c5_tag.append(1)\n",
        "    test_c5_data[l] = z[n]\n",
        "    l = l+1\n",
        " \n",
        "  if t[n] == 30:\n",
        "    test_c5_tag.append(2)\n",
        "    test_c5_data[l] = z[n]\n",
        "    l = l+1\n",
        " \n",
        "  if t[n] == 49:\n",
        "    test_c5_tag.append(3)\n",
        "    test_c5_data[l] = z[n]\n",
        "    l = l+1\n",
        " \n",
        "  if t[n] == 84:\n",
        "    test_c5_tag.append(4)\n",
        "    test_c5_data[l] = z[n]\n",
        "    l = l+1\n",
        " \n",
        "test_c5_tag = torch.tensor(test_c5_tag, dtype=torch.long)\n",
        "test_c5_data = torch.tensor(test_c5_data,dtype=torch.float)\n",
        "test_loader = DataLoader(TensorDataset(test_c5_data, test_c5_tag), batch_size = 128,shuffle=True)\n"
      ],
      "execution_count": 0,
      "outputs": [
        {
          "output_type": "stream",
          "text": [
            "Files already downloaded and verified\n"
          ],
          "name": "stdout"
        }
      ]
    },
    {
      "cell_type": "markdown",
      "metadata": {
        "id": "A9fKgxZ2Vk1I",
        "colab_type": "text"
      },
      "source": [
        "Train modified model with five classes dataset"
      ]
    },
    {
      "cell_type": "code",
      "metadata": {
        "id": "9dG89sIXcjKf",
        "colab_type": "code",
        "outputId": "cf8bd233-d92d-40a8-c508-965974bd7d6c",
        "colab": {
          "base_uri": "https://localhost:8080/",
          "height": 1000
        }
      },
      "source": [
        "\n",
        "epoch=[]\n",
        "losses=[]\n",
        "accur=[]\n",
        "criterion = nn.CrossEntropyLoss()\n",
        "optimizer= torch.optim.Adam(model.parameters(),lr=0.001)\n",
        "for t in range (100):\n",
        "  l2=0\n",
        "  correct2 = 0\n",
        "  total2 = 0\n",
        "  for x_b, y_b in train_loader:\n",
        "    x_b, y_b = x_b.to(device), y_b.to(device)\n",
        "    y_p = model(x_b.permute(0,3,1,2))\n",
        "    loss2 = criterion(y_p, y_b)\n",
        "    loss2.backward()\n",
        "    optimizer.step()\n",
        "    optimizer.zero_grad()\n",
        "    l2+=loss2\n",
        "  losses.append(l2/len(train_loader))\n",
        "  print(\"LOSSSS\",l2/len(train_loader))\n",
        "  epoch.append(t)\n",
        "\n",
        "  #Test:\n",
        "  with torch.no_grad():\n",
        "    for x_, y_ in test_loader :\n",
        "        x_, y_ = x_.to(device), y_.to(device)\n",
        "        y_prediction = model(x_.permute(0,3,1,2))\n",
        "        _ ,y_prediction = y_prediction.max(1)\n",
        "        total2 += y_.size(0)\n",
        "        correct2 += (y_prediction == y_).sum().item()\n",
        "\n",
        "  print('Accuracy of the CNN on the CIFAR10 test images: %d %%' % (\n",
        "    100 * correct2 / total2))\n",
        "  accur.append(100 * correct2 / total2)"
      ],
      "execution_count": 0,
      "outputs": [
        {
          "output_type": "stream",
          "text": [
            "LOSSSS tensor(1.9090, device='cuda:0', grad_fn=<DivBackward0>)\n",
            "Accuracy of the CNN on the CIFAR10 test images: 53 %\n",
            "LOSSSS tensor(0.7361, device='cuda:0', grad_fn=<DivBackward0>)\n",
            "Accuracy of the CNN on the CIFAR10 test images: 69 %\n",
            "LOSSSS tensor(0.5659, device='cuda:0', grad_fn=<DivBackward0>)\n",
            "Accuracy of the CNN on the CIFAR10 test images: 68 %\n",
            "LOSSSS tensor(0.5428, device='cuda:0', grad_fn=<DivBackward0>)\n",
            "Accuracy of the CNN on the CIFAR10 test images: 70 %\n",
            "LOSSSS tensor(0.5551, device='cuda:0', grad_fn=<DivBackward0>)\n",
            "Accuracy of the CNN on the CIFAR10 test images: 71 %\n",
            "LOSSSS tensor(0.5428, device='cuda:0', grad_fn=<DivBackward0>)\n",
            "Accuracy of the CNN on the CIFAR10 test images: 69 %\n",
            "LOSSSS tensor(0.4847, device='cuda:0', grad_fn=<DivBackward0>)\n",
            "Accuracy of the CNN on the CIFAR10 test images: 71 %\n",
            "LOSSSS tensor(0.4808, device='cuda:0', grad_fn=<DivBackward0>)\n",
            "Accuracy of the CNN on the CIFAR10 test images: 69 %\n",
            "LOSSSS tensor(0.4688, device='cuda:0', grad_fn=<DivBackward0>)\n",
            "Accuracy of the CNN on the CIFAR10 test images: 70 %\n",
            "LOSSSS tensor(0.4700, device='cuda:0', grad_fn=<DivBackward0>)\n",
            "Accuracy of the CNN on the CIFAR10 test images: 71 %\n",
            "LOSSSS tensor(0.4843, device='cuda:0', grad_fn=<DivBackward0>)\n",
            "Accuracy of the CNN on the CIFAR10 test images: 66 %\n",
            "LOSSSS tensor(0.5058, device='cuda:0', grad_fn=<DivBackward0>)\n",
            "Accuracy of the CNN on the CIFAR10 test images: 70 %\n",
            "LOSSSS tensor(0.4427, device='cuda:0', grad_fn=<DivBackward0>)\n",
            "Accuracy of the CNN on the CIFAR10 test images: 69 %\n",
            "LOSSSS tensor(0.4159, device='cuda:0', grad_fn=<DivBackward0>)\n",
            "Accuracy of the CNN on the CIFAR10 test images: 71 %\n",
            "LOSSSS tensor(0.4235, device='cuda:0', grad_fn=<DivBackward0>)\n",
            "Accuracy of the CNN on the CIFAR10 test images: 62 %\n",
            "LOSSSS tensor(0.4585, device='cuda:0', grad_fn=<DivBackward0>)\n",
            "Accuracy of the CNN on the CIFAR10 test images: 69 %\n",
            "LOSSSS tensor(0.4337, device='cuda:0', grad_fn=<DivBackward0>)\n",
            "Accuracy of the CNN on the CIFAR10 test images: 71 %\n",
            "LOSSSS tensor(0.4446, device='cuda:0', grad_fn=<DivBackward0>)\n",
            "Accuracy of the CNN on the CIFAR10 test images: 69 %\n",
            "LOSSSS tensor(0.4044, device='cuda:0', grad_fn=<DivBackward0>)\n",
            "Accuracy of the CNN on the CIFAR10 test images: 70 %\n",
            "LOSSSS tensor(0.3836, device='cuda:0', grad_fn=<DivBackward0>)\n",
            "Accuracy of the CNN on the CIFAR10 test images: 70 %\n",
            "LOSSSS tensor(0.3756, device='cuda:0', grad_fn=<DivBackward0>)\n",
            "Accuracy of the CNN on the CIFAR10 test images: 72 %\n",
            "LOSSSS tensor(0.3605, device='cuda:0', grad_fn=<DivBackward0>)\n",
            "Accuracy of the CNN on the CIFAR10 test images: 70 %\n",
            "LOSSSS tensor(0.3564, device='cuda:0', grad_fn=<DivBackward0>)\n",
            "Accuracy of the CNN on the CIFAR10 test images: 71 %\n",
            "LOSSSS tensor(0.3442, device='cuda:0', grad_fn=<DivBackward0>)\n",
            "Accuracy of the CNN on the CIFAR10 test images: 70 %\n",
            "LOSSSS tensor(0.3027, device='cuda:0', grad_fn=<DivBackward0>)\n",
            "Accuracy of the CNN on the CIFAR10 test images: 72 %\n",
            "LOSSSS tensor(0.3090, device='cuda:0', grad_fn=<DivBackward0>)\n",
            "Accuracy of the CNN on the CIFAR10 test images: 70 %\n",
            "LOSSSS tensor(0.3067, device='cuda:0', grad_fn=<DivBackward0>)\n",
            "Accuracy of the CNN on the CIFAR10 test images: 71 %\n",
            "LOSSSS tensor(0.3420, device='cuda:0', grad_fn=<DivBackward0>)\n",
            "Accuracy of the CNN on the CIFAR10 test images: 72 %\n",
            "LOSSSS tensor(0.2765, device='cuda:0', grad_fn=<DivBackward0>)\n",
            "Accuracy of the CNN on the CIFAR10 test images: 72 %\n",
            "LOSSSS tensor(0.3173, device='cuda:0', grad_fn=<DivBackward0>)\n",
            "Accuracy of the CNN on the CIFAR10 test images: 63 %\n",
            "LOSSSS tensor(0.3885, device='cuda:0', grad_fn=<DivBackward0>)\n",
            "Accuracy of the CNN on the CIFAR10 test images: 71 %\n",
            "LOSSSS tensor(0.2959, device='cuda:0', grad_fn=<DivBackward0>)\n",
            "Accuracy of the CNN on the CIFAR10 test images: 71 %\n",
            "LOSSSS tensor(0.3362, device='cuda:0', grad_fn=<DivBackward0>)\n",
            "Accuracy of the CNN on the CIFAR10 test images: 73 %\n",
            "LOSSSS tensor(0.3022, device='cuda:0', grad_fn=<DivBackward0>)\n",
            "Accuracy of the CNN on the CIFAR10 test images: 71 %\n",
            "LOSSSS tensor(0.2400, device='cuda:0', grad_fn=<DivBackward0>)\n",
            "Accuracy of the CNN on the CIFAR10 test images: 68 %\n",
            "LOSSSS tensor(0.2563, device='cuda:0', grad_fn=<DivBackward0>)\n",
            "Accuracy of the CNN on the CIFAR10 test images: 71 %\n",
            "LOSSSS tensor(0.2277, device='cuda:0', grad_fn=<DivBackward0>)\n",
            "Accuracy of the CNN on the CIFAR10 test images: 68 %\n",
            "LOSSSS tensor(0.2314, device='cuda:0', grad_fn=<DivBackward0>)\n",
            "Accuracy of the CNN on the CIFAR10 test images: 71 %\n",
            "LOSSSS tensor(0.2429, device='cuda:0', grad_fn=<DivBackward0>)\n",
            "Accuracy of the CNN on the CIFAR10 test images: 63 %\n",
            "LOSSSS tensor(0.2465, device='cuda:0', grad_fn=<DivBackward0>)\n",
            "Accuracy of the CNN on the CIFAR10 test images: 68 %\n",
            "LOSSSS tensor(0.2819, device='cuda:0', grad_fn=<DivBackward0>)\n",
            "Accuracy of the CNN on the CIFAR10 test images: 69 %\n",
            "LOSSSS tensor(0.2310, device='cuda:0', grad_fn=<DivBackward0>)\n",
            "Accuracy of the CNN on the CIFAR10 test images: 71 %\n",
            "LOSSSS tensor(0.2488, device='cuda:0', grad_fn=<DivBackward0>)\n",
            "Accuracy of the CNN on the CIFAR10 test images: 73 %\n",
            "LOSSSS tensor(0.2079, device='cuda:0', grad_fn=<DivBackward0>)\n",
            "Accuracy of the CNN on the CIFAR10 test images: 71 %\n",
            "LOSSSS tensor(0.2116, device='cuda:0', grad_fn=<DivBackward0>)\n",
            "Accuracy of the CNN on the CIFAR10 test images: 69 %\n",
            "LOSSSS tensor(0.2378, device='cuda:0', grad_fn=<DivBackward0>)\n",
            "Accuracy of the CNN on the CIFAR10 test images: 69 %\n",
            "LOSSSS tensor(0.2051, device='cuda:0', grad_fn=<DivBackward0>)\n",
            "Accuracy of the CNN on the CIFAR10 test images: 70 %\n",
            "LOSSSS tensor(0.2007, device='cuda:0', grad_fn=<DivBackward0>)\n",
            "Accuracy of the CNN on the CIFAR10 test images: 68 %\n",
            "LOSSSS tensor(0.2228, device='cuda:0', grad_fn=<DivBackward0>)\n",
            "Accuracy of the CNN on the CIFAR10 test images: 66 %\n",
            "LOSSSS tensor(0.2815, device='cuda:0', grad_fn=<DivBackward0>)\n",
            "Accuracy of the CNN on the CIFAR10 test images: 65 %\n",
            "LOSSSS tensor(0.2315, device='cuda:0', grad_fn=<DivBackward0>)\n",
            "Accuracy of the CNN on the CIFAR10 test images: 65 %\n",
            "LOSSSS tensor(0.1916, device='cuda:0', grad_fn=<DivBackward0>)\n",
            "Accuracy of the CNN on the CIFAR10 test images: 69 %\n",
            "LOSSSS tensor(0.2163, device='cuda:0', grad_fn=<DivBackward0>)\n",
            "Accuracy of the CNN on the CIFAR10 test images: 70 %\n",
            "LOSSSS tensor(0.2127, device='cuda:0', grad_fn=<DivBackward0>)\n",
            "Accuracy of the CNN on the CIFAR10 test images: 71 %\n",
            "LOSSSS tensor(0.1665, device='cuda:0', grad_fn=<DivBackward0>)\n",
            "Accuracy of the CNN on the CIFAR10 test images: 70 %\n",
            "LOSSSS tensor(0.1429, device='cuda:0', grad_fn=<DivBackward0>)\n",
            "Accuracy of the CNN on the CIFAR10 test images: 71 %\n",
            "LOSSSS tensor(0.1469, device='cuda:0', grad_fn=<DivBackward0>)\n",
            "Accuracy of the CNN on the CIFAR10 test images: 71 %\n",
            "LOSSSS tensor(0.1470, device='cuda:0', grad_fn=<DivBackward0>)\n",
            "Accuracy of the CNN on the CIFAR10 test images: 71 %\n",
            "LOSSSS tensor(0.1212, device='cuda:0', grad_fn=<DivBackward0>)\n",
            "Accuracy of the CNN on the CIFAR10 test images: 71 %\n",
            "LOSSSS tensor(0.1509, device='cuda:0', grad_fn=<DivBackward0>)\n",
            "Accuracy of the CNN on the CIFAR10 test images: 69 %\n",
            "LOSSSS tensor(0.1589, device='cuda:0', grad_fn=<DivBackward0>)\n",
            "Accuracy of the CNN on the CIFAR10 test images: 70 %\n",
            "LOSSSS tensor(0.1483, device='cuda:0', grad_fn=<DivBackward0>)\n",
            "Accuracy of the CNN on the CIFAR10 test images: 71 %\n",
            "LOSSSS tensor(0.1398, device='cuda:0', grad_fn=<DivBackward0>)\n",
            "Accuracy of the CNN on the CIFAR10 test images: 70 %\n",
            "LOSSSS tensor(0.1505, device='cuda:0', grad_fn=<DivBackward0>)\n",
            "Accuracy of the CNN on the CIFAR10 test images: 71 %\n",
            "LOSSSS tensor(0.1238, device='cuda:0', grad_fn=<DivBackward0>)\n",
            "Accuracy of the CNN on the CIFAR10 test images: 70 %\n",
            "LOSSSS tensor(0.1344, device='cuda:0', grad_fn=<DivBackward0>)\n",
            "Accuracy of the CNN on the CIFAR10 test images: 71 %\n",
            "LOSSSS tensor(0.2030, device='cuda:0', grad_fn=<DivBackward0>)\n",
            "Accuracy of the CNN on the CIFAR10 test images: 71 %\n",
            "LOSSSS tensor(0.1691, device='cuda:0', grad_fn=<DivBackward0>)\n",
            "Accuracy of the CNN on the CIFAR10 test images: 70 %\n",
            "LOSSSS tensor(0.1497, device='cuda:0', grad_fn=<DivBackward0>)\n",
            "Accuracy of the CNN on the CIFAR10 test images: 69 %\n",
            "LOSSSS tensor(0.1253, device='cuda:0', grad_fn=<DivBackward0>)\n",
            "Accuracy of the CNN on the CIFAR10 test images: 71 %\n",
            "LOSSSS tensor(0.1072, device='cuda:0', grad_fn=<DivBackward0>)\n",
            "Accuracy of the CNN on the CIFAR10 test images: 69 %\n",
            "LOSSSS tensor(0.1028, device='cuda:0', grad_fn=<DivBackward0>)\n",
            "Accuracy of the CNN on the CIFAR10 test images: 70 %\n",
            "LOSSSS tensor(0.1309, device='cuda:0', grad_fn=<DivBackward0>)\n",
            "Accuracy of the CNN on the CIFAR10 test images: 71 %\n",
            "LOSSSS tensor(0.1961, device='cuda:0', grad_fn=<DivBackward0>)\n",
            "Accuracy of the CNN on the CIFAR10 test images: 69 %\n",
            "LOSSSS tensor(0.1454, device='cuda:0', grad_fn=<DivBackward0>)\n",
            "Accuracy of the CNN on the CIFAR10 test images: 71 %\n",
            "LOSSSS tensor(0.1263, device='cuda:0', grad_fn=<DivBackward0>)\n",
            "Accuracy of the CNN on the CIFAR10 test images: 71 %\n",
            "LOSSSS tensor(0.1244, device='cuda:0', grad_fn=<DivBackward0>)\n",
            "Accuracy of the CNN on the CIFAR10 test images: 67 %\n",
            "LOSSSS tensor(0.1179, device='cuda:0', grad_fn=<DivBackward0>)\n",
            "Accuracy of the CNN on the CIFAR10 test images: 71 %\n",
            "LOSSSS tensor(0.0814, device='cuda:0', grad_fn=<DivBackward0>)\n",
            "Accuracy of the CNN on the CIFAR10 test images: 70 %\n",
            "LOSSSS tensor(0.0784, device='cuda:0', grad_fn=<DivBackward0>)\n",
            "Accuracy of the CNN on the CIFAR10 test images: 69 %\n",
            "LOSSSS tensor(0.1059, device='cuda:0', grad_fn=<DivBackward0>)\n",
            "Accuracy of the CNN on the CIFAR10 test images: 70 %\n",
            "LOSSSS tensor(0.1117, device='cuda:0', grad_fn=<DivBackward0>)\n",
            "Accuracy of the CNN on the CIFAR10 test images: 68 %\n",
            "LOSSSS tensor(0.0724, device='cuda:0', grad_fn=<DivBackward0>)\n",
            "Accuracy of the CNN on the CIFAR10 test images: 71 %\n",
            "LOSSSS tensor(0.0582, device='cuda:0', grad_fn=<DivBackward0>)\n",
            "Accuracy of the CNN on the CIFAR10 test images: 69 %\n",
            "LOSSSS tensor(0.0933, device='cuda:0', grad_fn=<DivBackward0>)\n",
            "Accuracy of the CNN on the CIFAR10 test images: 70 %\n",
            "LOSSSS tensor(0.0989, device='cuda:0', grad_fn=<DivBackward0>)\n",
            "Accuracy of the CNN on the CIFAR10 test images: 70 %\n",
            "LOSSSS tensor(0.0892, device='cuda:0', grad_fn=<DivBackward0>)\n",
            "Accuracy of the CNN on the CIFAR10 test images: 70 %\n",
            "LOSSSS tensor(0.0691, device='cuda:0', grad_fn=<DivBackward0>)\n",
            "Accuracy of the CNN on the CIFAR10 test images: 71 %\n",
            "LOSSSS tensor(0.0577, device='cuda:0', grad_fn=<DivBackward0>)\n",
            "Accuracy of the CNN on the CIFAR10 test images: 69 %\n",
            "LOSSSS tensor(0.0928, device='cuda:0', grad_fn=<DivBackward0>)\n",
            "Accuracy of the CNN on the CIFAR10 test images: 69 %\n",
            "LOSSSS tensor(0.0661, device='cuda:0', grad_fn=<DivBackward0>)\n",
            "Accuracy of the CNN on the CIFAR10 test images: 69 %\n",
            "LOSSSS tensor(0.0593, device='cuda:0', grad_fn=<DivBackward0>)\n",
            "Accuracy of the CNN on the CIFAR10 test images: 68 %\n",
            "LOSSSS tensor(0.0682, device='cuda:0', grad_fn=<DivBackward0>)\n",
            "Accuracy of the CNN on the CIFAR10 test images: 69 %\n",
            "LOSSSS tensor(0.0814, device='cuda:0', grad_fn=<DivBackward0>)\n",
            "Accuracy of the CNN on the CIFAR10 test images: 69 %\n",
            "LOSSSS tensor(0.0629, device='cuda:0', grad_fn=<DivBackward0>)\n",
            "Accuracy of the CNN on the CIFAR10 test images: 70 %\n",
            "LOSSSS tensor(0.0518, device='cuda:0', grad_fn=<DivBackward0>)\n",
            "Accuracy of the CNN on the CIFAR10 test images: 68 %\n",
            "LOSSSS tensor(0.0541, device='cuda:0', grad_fn=<DivBackward0>)\n",
            "Accuracy of the CNN on the CIFAR10 test images: 69 %\n",
            "LOSSSS tensor(0.1711, device='cuda:0', grad_fn=<DivBackward0>)\n",
            "Accuracy of the CNN on the CIFAR10 test images: 64 %\n",
            "LOSSSS tensor(0.1907, device='cuda:0', grad_fn=<DivBackward0>)\n",
            "Accuracy of the CNN on the CIFAR10 test images: 68 %\n",
            "LOSSSS tensor(0.1381, device='cuda:0', grad_fn=<DivBackward0>)\n",
            "Accuracy of the CNN on the CIFAR10 test images: 69 %\n"
          ],
          "name": "stdout"
        }
      ]
    },
    {
      "cell_type": "code",
      "metadata": {
        "id": "ITtnEXYcfwXJ",
        "colab_type": "code",
        "colab": {}
      },
      "source": [
        ""
      ],
      "execution_count": 0,
      "outputs": []
    },
    {
      "cell_type": "markdown",
      "metadata": {
        "id": "DaR20omNVw9c",
        "colab_type": "text"
      },
      "source": [
        "# Plot of Loss"
      ]
    },
    {
      "cell_type": "code",
      "metadata": {
        "id": "lpoZQbZtgQh5",
        "colab_type": "code",
        "outputId": "203ac3ca-a60e-498d-d49f-0ceadf070f18",
        "colab": {
          "base_uri": "https://localhost:8080/",
          "height": 300
        }
      },
      "source": [
        "plt.plot(epoch, losses, 'r*')  \n",
        "plt.xlabel(\"Epoch\")\n",
        "plt.ylabel(\"Loss\")  "
      ],
      "execution_count": 0,
      "outputs": [
        {
          "output_type": "execute_result",
          "data": {
            "text/plain": [
              "Text(0, 0.5, 'Loss')"
            ]
          },
          "metadata": {
            "tags": []
          },
          "execution_count": 29
        },
        {
          "output_type": "display_data",
          "data": {
            "image/png": "[encoded data removed]",
            "text/plain": [
              "<Figure size 432x288 with 1 Axes>"
            ]
          },
          "metadata": {
            "tags": []
          }
        }
      ]
    },
    {
      "cell_type": "markdown",
      "metadata": {
        "id": "TFYE_EZiV2BP",
        "colab_type": "text"
      },
      "source": [
        "# Plot of Accuracy"
      ]
    },
    {
      "cell_type": "code",
      "metadata": {
        "id": "5_lJrr8cgUSl",
        "colab_type": "code",
        "outputId": "d4fc6a75-2b73-4596-887e-d00c58bb375f",
        "colab": {
          "base_uri": "https://localhost:8080/",
          "height": 296
        }
      },
      "source": [
        "plt.plot(epoch, accur, 'r*')  \n",
        "plt.xlabel(\"Epoch\")\n",
        "plt.ylabel(\"Accuracy\") "
      ],
      "execution_count": 0,
      "outputs": [
        {
          "output_type": "execute_result",
          "data": {
            "text/plain": [
              "Text(0, 0.5, 'Accuracy')"
            ]
          },
          "metadata": {
            "tags": []
          },
          "execution_count": 30
        },
        {
          "output_type": "display_data",
          "data": {
            "image/png": "[encoded data removed]",
            "text/plain": [
              "<Figure size 432x288 with 1 Axes>"
            ]
          },
          "metadata": {
            "tags": []
          }
        }
      ]
    }
  ]
}